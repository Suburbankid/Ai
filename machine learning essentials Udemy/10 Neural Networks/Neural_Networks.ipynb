{
 "cells": [
  {
   "cell_type": "code",
   "execution_count": 2,
   "metadata": {
    "id": "PQAb_7PXzog7"
   },
   "outputs": [],
   "source": [
    "import numpy as np\n",
    "import matplotlib.pyplot as plt\n",
    "\n",
    "from sklearn.datasets import make_moons, make_circles, make_classification"
   ]
  },
  {
   "cell_type": "code",
   "execution_count": 30,
   "metadata": {
    "id": "v7owOh2d0D8L"
   },
   "outputs": [],
   "source": [
    "# X, Y = make_moons(n_samples=2000, noise=0.15, random_state=1)\n",
    "# X, Y = make_circles(n_samples=2000, noise=0.1, random_state=1, factor=0.5)\n",
    "# X, Y = make_classification(n_samples=2000, n_features=2, n_redundant=0, random_state=1)"
   ]
  },
  {
   "cell_type": "code",
   "execution_count": 63,
   "metadata": {
    "id": "n_CGWmDC1XpY"
   },
   "outputs": [],
   "source": [
    "def load_dataset(dataset):\n",
    "    if dataset=='moons':\n",
    "        X, Y = make_moons(n_samples=10000, noise=0.15, random_state=1)\n",
    "    elif dataset=='circles':\n",
    "        X, Y = make_circles(n_samples=10000, noise=0.1, random_state=1, factor=0.5)\n",
    "    elif dataset=='classification':\n",
    "        X, Y = make_classification(n_samples=10000, n_features=2, n_redundant=0, random_state=2)\n",
    "\n",
    "    return X,Y"
   ]
  },
  {
   "cell_type": "code",
   "execution_count": 64,
   "metadata": {
    "colab": {
     "base_uri": "https://localhost:8080/"
    },
    "id": "xPoDhm1p0RTM",
    "outputId": "b28406c5-c83a-4938-9cd7-a8fa616e598c"
   },
   "outputs": [
    {
     "name": "stdout",
     "output_type": "stream",
     "text": [
      "(10000, 2) (10000,)\n"
     ]
    }
   ],
   "source": [
    "dataset = 'classification'\n",
    "X,Y = load_dataset(dataset)\n",
    "print(X.shape, Y.shape)"
   ]
  },
  {
   "cell_type": "code",
   "execution_count": 65,
   "metadata": {
    "colab": {
     "base_uri": "https://localhost:8080/",
     "height": 267
    },
    "id": "58pVb16d0TYU",
    "outputId": "342c1f95-da94-4130-9549-5dd506c6f295"
   },
   "outputs": [
    {
     "data": {
      "image/png": "[encoded data removed]",
      "text/plain": [
       "<Figure size 432x288 with 1 Axes>"
      ]
     },
     "metadata": {
      "needs_background": "light"
     },
     "output_type": "display_data"
    }
   ],
   "source": [
    "plt.scatter(X[:, 0], X[:, 1], c = Y)\n",
    "plt.show()"
   ]
  },
  {
   "cell_type": "markdown",
   "metadata": {
    "id": "EUP_a0nB13DD"
   },
   "source": [
    "# Model Building"
   ]
  },
  {
   "cell_type": "code",
   "execution_count": 53,
   "metadata": {
    "id": "kcaJ2AMf0cHm"
   },
   "outputs": [],
   "source": [
    "from keras import Sequential\n",
    "from keras.layers import Dense"
   ]
  },
  {
   "cell_type": "code",
   "execution_count": 66,
   "metadata": {
    "colab": {
     "base_uri": "https://localhost:8080/"
    },
    "id": "0EY74TIG2lM-",
    "outputId": "27fdc8f2-70c1-4d1e-fc62-7df81a837c93"
   },
   "outputs": [
    {
     "name": "stdout",
     "output_type": "stream",
     "text": [
      "Model: \"sequential_5\"\n",
      "_________________________________________________________________\n",
      " Layer (type)                Output Shape              Param #   \n",
      "=================================================================\n",
      " dense_15 (Dense)            (None, 2)                 6         \n",
      "                                                                 \n",
      " dense_16 (Dense)            (None, 1)                 3         \n",
      "                                                                 \n",
      "=================================================================\n",
      "Total params: 9\n",
      "Trainable params: 9\n",
      "Non-trainable params: 0\n",
      "_________________________________________________________________\n"
     ]
    }
   ],
   "source": [
    "model = Sequential()\n",
    "model.add( Dense(2, activation='relu', input_shape = (2,) )  )  # input shape is given for the first hidden layer.\n",
    "# model.add( Dense(2, activation='relu') )\n",
    "model.add( Dense(1, activation='sigmoid') ) \n",
    "\n",
    "\n",
    "model.compile(loss='binary_crossentropy', metrics='accuracy')\n",
    "model.summary()"
   ]
  },
  {
   "cell_type": "code",
   "execution_count": 67,
   "metadata": {
    "colab": {
     "base_uri": "https://localhost:8080/"
    },
    "id": "Vq9SCCds3gmw",
    "outputId": "1adef5c1-3e2d-40bb-9b4d-6e19d83776d0"
   },
   "outputs": [
    {
     "name": "stdout",
     "output_type": "stream",
     "text": [
      "Epoch 1/50\n",
      "141/141 [==============================] - 2s 5ms/step - loss: 0.9412 - accuracy: 0.1902 - val_loss: 0.8663 - val_accuracy: 0.1610\n",
      "Epoch 2/50\n",
      "141/141 [==============================] - 0s 2ms/step - loss: 0.8161 - accuracy: 0.2524 - val_loss: 0.7777 - val_accuracy: 0.2790\n",
      "Epoch 3/50\n",
      "141/141 [==============================] - 0s 2ms/step - loss: 0.7471 - accuracy: 0.2887 - val_loss: 0.7260 - val_accuracy: 0.3060\n",
      "Epoch 4/50\n",
      "141/141 [==============================] - 0s 2ms/step - loss: 0.7021 - accuracy: 0.3980 - val_loss: 0.6838 - val_accuracy: 0.4760\n",
      "Epoch 5/50\n",
      "141/141 [==============================] - 0s 2ms/step - loss: 0.6572 - accuracy: 0.5007 - val_loss: 0.6321 - val_accuracy: 0.4870\n",
      "Epoch 6/50\n",
      "141/141 [==============================] - 0s 2ms/step - loss: 0.5965 - accuracy: 0.8120 - val_loss: 0.5655 - val_accuracy: 0.8850\n",
      "Epoch 7/50\n",
      "141/141 [==============================] - 0s 2ms/step - loss: 0.5300 - accuracy: 0.9041 - val_loss: 0.5005 - val_accuracy: 0.9120\n",
      "Epoch 8/50\n",
      "141/141 [==============================] - 0s 2ms/step - loss: 0.4676 - accuracy: 0.9189 - val_loss: 0.4425 - val_accuracy: 0.9270\n",
      "Epoch 9/50\n",
      "141/141 [==============================] - 0s 2ms/step - loss: 0.4144 - accuracy: 0.9250 - val_loss: 0.3942 - val_accuracy: 0.9310\n",
      "Epoch 10/50\n",
      "141/141 [==============================] - 0s 2ms/step - loss: 0.3724 - accuracy: 0.9286 - val_loss: 0.3570 - val_accuracy: 0.9310\n",
      "Epoch 11/50\n",
      "141/141 [==============================] - 0s 2ms/step - loss: 0.3390 - accuracy: 0.9318 - val_loss: 0.3270 - val_accuracy: 0.9330\n",
      "Epoch 12/50\n",
      "141/141 [==============================] - 0s 2ms/step - loss: 0.3124 - accuracy: 0.9331 - val_loss: 0.3032 - val_accuracy: 0.9330\n",
      "Epoch 13/50\n",
      "141/141 [==============================] - 0s 2ms/step - loss: 0.2910 - accuracy: 0.9352 - val_loss: 0.2837 - val_accuracy: 0.9320\n",
      "Epoch 14/50\n",
      "141/141 [==============================] - 0s 2ms/step - loss: 0.2730 - accuracy: 0.9359 - val_loss: 0.2672 - val_accuracy: 0.9340\n",
      "Epoch 15/50\n",
      "141/141 [==============================] - 0s 2ms/step - loss: 0.2577 - accuracy: 0.9360 - val_loss: 0.2534 - val_accuracy: 0.9330\n",
      "Epoch 16/50\n",
      "141/141 [==============================] - 0s 2ms/step - loss: 0.2449 - accuracy: 0.9362 - val_loss: 0.2414 - val_accuracy: 0.9330\n",
      "Epoch 17/50\n",
      "141/141 [==============================] - 0s 2ms/step - loss: 0.2337 - accuracy: 0.9359 - val_loss: 0.2309 - val_accuracy: 0.9400\n",
      "Epoch 18/50\n",
      "141/141 [==============================] - 0s 2ms/step - loss: 0.2241 - accuracy: 0.9351 - val_loss: 0.2214 - val_accuracy: 0.9400\n",
      "Epoch 19/50\n",
      "141/141 [==============================] - 0s 2ms/step - loss: 0.2158 - accuracy: 0.9353 - val_loss: 0.2136 - val_accuracy: 0.9420\n",
      "Epoch 20/50\n",
      "141/141 [==============================] - 0s 2ms/step - loss: 0.2092 - accuracy: 0.9361 - val_loss: 0.2078 - val_accuracy: 0.9430\n",
      "Epoch 21/50\n",
      "141/141 [==============================] - 0s 2ms/step - loss: 0.2042 - accuracy: 0.9359 - val_loss: 0.2028 - val_accuracy: 0.9420\n",
      "Epoch 22/50\n",
      "141/141 [==============================] - 0s 2ms/step - loss: 0.2000 - accuracy: 0.9362 - val_loss: 0.1989 - val_accuracy: 0.9430\n",
      "Epoch 23/50\n",
      "141/141 [==============================] - 0s 2ms/step - loss: 0.1967 - accuracy: 0.9361 - val_loss: 0.1955 - val_accuracy: 0.9420\n",
      "Epoch 24/50\n",
      "141/141 [==============================] - 0s 3ms/step - loss: 0.1937 - accuracy: 0.9368 - val_loss: 0.1925 - val_accuracy: 0.9430\n",
      "Epoch 25/50\n",
      "141/141 [==============================] - 0s 2ms/step - loss: 0.1915 - accuracy: 0.9357 - val_loss: 0.1901 - val_accuracy: 0.9430\n",
      "Epoch 26/50\n",
      "141/141 [==============================] - 0s 2ms/step - loss: 0.1896 - accuracy: 0.9363 - val_loss: 0.1880 - val_accuracy: 0.9420\n",
      "Epoch 27/50\n",
      "141/141 [==============================] - 0s 2ms/step - loss: 0.1880 - accuracy: 0.9366 - val_loss: 0.1862 - val_accuracy: 0.9430\n",
      "Epoch 28/50\n",
      "141/141 [==============================] - 0s 2ms/step - loss: 0.1865 - accuracy: 0.9366 - val_loss: 0.1844 - val_accuracy: 0.9420\n",
      "Epoch 29/50\n",
      "141/141 [==============================] - 0s 2ms/step - loss: 0.1851 - accuracy: 0.9366 - val_loss: 0.1828 - val_accuracy: 0.9420\n",
      "Epoch 30/50\n",
      "141/141 [==============================] - 0s 2ms/step - loss: 0.1840 - accuracy: 0.9370 - val_loss: 0.1816 - val_accuracy: 0.9420\n",
      "Epoch 31/50\n",
      "141/141 [==============================] - 0s 2ms/step - loss: 0.1830 - accuracy: 0.9372 - val_loss: 0.1804 - val_accuracy: 0.9420\n",
      "Epoch 32/50\n",
      "141/141 [==============================] - 0s 2ms/step - loss: 0.1822 - accuracy: 0.9373 - val_loss: 0.1794 - val_accuracy: 0.9420\n",
      "Epoch 33/50\n",
      "141/141 [==============================] - 0s 2ms/step - loss: 0.1815 - accuracy: 0.9370 - val_loss: 0.1784 - val_accuracy: 0.9410\n",
      "Epoch 34/50\n",
      "141/141 [==============================] - 0s 2ms/step - loss: 0.1808 - accuracy: 0.9370 - val_loss: 0.1775 - val_accuracy: 0.9400\n",
      "Epoch 35/50\n",
      "141/141 [==============================] - 0s 2ms/step - loss: 0.1802 - accuracy: 0.9379 - val_loss: 0.1767 - val_accuracy: 0.9380\n",
      "Epoch 36/50\n",
      "141/141 [==============================] - 0s 2ms/step - loss: 0.1797 - accuracy: 0.9374 - val_loss: 0.1760 - val_accuracy: 0.9410\n",
      "Epoch 37/50\n",
      "141/141 [==============================] - 0s 2ms/step - loss: 0.1793 - accuracy: 0.9371 - val_loss: 0.1753 - val_accuracy: 0.9400\n",
      "Epoch 38/50\n",
      "141/141 [==============================] - 0s 2ms/step - loss: 0.1788 - accuracy: 0.9372 - val_loss: 0.1747 - val_accuracy: 0.9400\n",
      "Epoch 39/50\n",
      "141/141 [==============================] - 0s 2ms/step - loss: 0.1784 - accuracy: 0.9371 - val_loss: 0.1741 - val_accuracy: 0.9390\n",
      "Epoch 40/50\n",
      "141/141 [==============================] - 0s 3ms/step - loss: 0.1780 - accuracy: 0.9374 - val_loss: 0.1737 - val_accuracy: 0.9390\n",
      "Epoch 41/50\n",
      "141/141 [==============================] - 0s 2ms/step - loss: 0.1777 - accuracy: 0.9380 - val_loss: 0.1734 - val_accuracy: 0.9410\n",
      "Epoch 42/50\n",
      "141/141 [==============================] - 0s 2ms/step - loss: 0.1774 - accuracy: 0.9368 - val_loss: 0.1727 - val_accuracy: 0.9400\n",
      "Epoch 43/50\n",
      "141/141 [==============================] - 0s 2ms/step - loss: 0.1772 - accuracy: 0.9376 - val_loss: 0.1724 - val_accuracy: 0.9400\n",
      "Epoch 44/50\n",
      "141/141 [==============================] - 0s 2ms/step - loss: 0.1769 - accuracy: 0.9378 - val_loss: 0.1721 - val_accuracy: 0.9400\n",
      "Epoch 45/50\n",
      "141/141 [==============================] - 0s 2ms/step - loss: 0.1767 - accuracy: 0.9374 - val_loss: 0.1717 - val_accuracy: 0.9390\n",
      "Epoch 46/50\n",
      "141/141 [==============================] - 0s 2ms/step - loss: 0.1764 - accuracy: 0.9376 - val_loss: 0.1713 - val_accuracy: 0.9380\n",
      "Epoch 47/50\n",
      "141/141 [==============================] - 0s 2ms/step - loss: 0.1761 - accuracy: 0.9374 - val_loss: 0.1709 - val_accuracy: 0.9380\n",
      "Epoch 48/50\n",
      "141/141 [==============================] - 0s 2ms/step - loss: 0.1760 - accuracy: 0.9382 - val_loss: 0.1709 - val_accuracy: 0.9390\n",
      "Epoch 49/50\n",
      "141/141 [==============================] - 0s 2ms/step - loss: 0.1758 - accuracy: 0.9380 - val_loss: 0.1706 - val_accuracy: 0.9390\n",
      "Epoch 50/50\n",
      "141/141 [==============================] - 0s 2ms/step - loss: 0.1756 - accuracy: 0.9374 - val_loss: 0.1703 - val_accuracy: 0.9380\n"
     ]
    },
    {
     "data": {
      "text/plain": [
       "<keras.callbacks.History at 0x7f4ce8dd7f40>"
      ]
     },
     "execution_count": 67,
     "metadata": {},
     "output_type": "execute_result"
    }
   ],
   "source": [
    "model.fit(X, Y, batch_size = 64, epochs=50, validation_split=0.1)"
   ]
  },
  {
   "cell_type": "code",
   "execution_count": null,
   "metadata": {
    "id": "pA4vIl9A6RIU"
   },
   "outputs": [],
   "source": []
  }
 ],
 "metadata": {
  "colab": {
   "provenance": []
  },
  "kernelspec": {
   "display_name": "Python 3",
   "language": "python",
   "name": "python3"
  },
  "language_info": {
   "codemirror_mode": {
    "name": "ipython",
    "version": 3
   },
   "file_extension": ".py",
   "mimetype": "text/x-python",
   "name": "python",
   "nbconvert_exporter": "python",
   "pygments_lexer": "ipython3",
   "version": "3.8.8"
  }
 },
 "nbformat": 4,
 "nbformat_minor": 1
}
