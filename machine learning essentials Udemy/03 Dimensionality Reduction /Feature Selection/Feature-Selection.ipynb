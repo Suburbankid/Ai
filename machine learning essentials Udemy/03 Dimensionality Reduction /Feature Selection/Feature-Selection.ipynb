{
 "cells": [
  {
   "cell_type": "code",
   "execution_count": null,
   "id": "eb32a520",
   "metadata": {
    "slideshow": {
     "slide_type": "skip"
    }
   },
   "outputs": [],
   "source": [
    "# jupyter nbconvert ./PCA.ipynb --to slides --post serve"
   ]
  },
  {
   "cell_type": "markdown",
   "id": "6f3b8e89",
   "metadata": {
    "slideshow": {
     "slide_type": "slide"
    }
   },
   "source": [
    "# Curse of Dimensionality\n",
    "    - increasing number of features hurts."
   ]
  },
  {
   "cell_type": "markdown",
   "id": "5f349d70",
   "metadata": {
    "slideshow": {
     "slide_type": "subslide"
    }
   },
   "source": [
    "<img src=\"model_performance.jpeg\" style=\"height:500px;\">"
   ]
  },
  {
   "cell_type": "markdown",
   "id": "df2c10e1",
   "metadata": {
    "slideshow": {
     "slide_type": "slide"
    }
   },
   "source": [
    "# Feature Selection\n",
    "\n",
    "    - Feature selection is a way of selecting the subset of the most relevant features from the original features set by removing the redundant, irrelevant, or noisy features."
   ]
  },
  {
   "cell_type": "markdown",
   "id": "a0e84ac8",
   "metadata": {
    "slideshow": {
     "slide_type": "subslide"
    }
   },
   "source": [
    "# Feature Extraction\n",
    "    - It extracts out (create) new features from the existing ones.\n",
    "    - e.g. : PCA"
   ]
  },
  {
   "cell_type": "markdown",
   "id": "77a421e0",
   "metadata": {
    "slideshow": {
     "slide_type": "slide"
    }
   },
   "source": [
    "# Types of Feature Selection\n",
    "    - Filter Method\n",
    "    - Wrapper Method\n",
    "    - Embedded Method"
   ]
  },
  {
   "cell_type": "markdown",
   "id": "bac77b14",
   "metadata": {
    "slideshow": {
     "slide_type": "slide"
    }
   },
   "source": [
    "# Filter Method\n",
    "\n",
    "    - checks the relevance of the feature with the o/p variable"
   ]
  },
  {
   "cell_type": "markdown",
   "id": "0b31a639",
   "metadata": {
    "slideshow": {
     "slide_type": "slide"
    }
   },
   "source": [
    "# Wrapper Method\n",
    "\n",
    "    - Forward Selection\n",
    "    - Backward Elimination"
   ]
  },
  {
   "cell_type": "markdown",
   "id": "ec4dc1b7",
   "metadata": {
    "slideshow": {
     "slide_type": "slide"
    }
   },
   "source": [
    "# Embedded Method\n",
    "\n",
    "    - combines the qualities' of filter and wrapper methods.\n",
    "    - L1 regularisation, Decision Trees, RandomForest etc."
   ]
  },
  {
   "cell_type": "markdown",
   "id": "e8c9caa6",
   "metadata": {
    "slideshow": {
     "slide_type": "slide"
    }
   },
   "source": [
    "# Feature Selection - Code \n",
    "\n",
    "<img src='https://media.giphy.com/media/765ccrAiB0g9z6EApL/giphy.gif' style=\"height:300px;\">"
   ]
  }
 ],
 "metadata": {
  "celltoolbar": "Slideshow",
  "kernelspec": {
   "display_name": "Python 3",
   "language": "python",
   "name": "python3"
  },
  "language_info": {
   "codemirror_mode": {
    "name": "ipython",
    "version": 3
   },
   "file_extension": ".py",
   "mimetype": "text/x-python",
   "name": "python",
   "nbconvert_exporter": "python",
   "pygments_lexer": "ipython3",
   "version": "3.8.8"
  }
 },
 "nbformat": 4,
 "nbformat_minor": 5
}
